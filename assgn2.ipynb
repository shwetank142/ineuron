{
 "cells": [
  {
   "cell_type": "markdown",
   "id": "62a63232",
   "metadata": {},
   "source": [
    "# Q1. What are the two values of the Boolean data type? How do you write them?\n",
    "ANS Two values of the boolen data types are True and False. \n",
    "    We have to use capital T and F and with the rest of the word in lowercase.\n",
    "    The type() of both False and True is bool. The type bool is built in, \n",
    "    meaning it’s always available in Python and doesn’t need to be imported.\n",
    "    \n",
    "\n",
    "    \n",
    "    "
   ]
  },
  {
   "cell_type": "code",
   "execution_count": 2,
   "id": "d8de898b",
   "metadata": {},
   "outputs": [
    {
     "name": "stdout",
     "output_type": "stream",
     "text": [
      "True <class 'bool'>\n",
      "False <class 'bool'>\n"
     ]
    }
   ],
   "source": [
    "x=True\n",
    "y=False\n",
    "print(x,type(x))\n",
    "print(y,type(y))"
   ]
  },
  {
   "cell_type": "markdown",
   "id": "7a0e4d75",
   "metadata": {},
   "source": [
    "# Q2. What are the three different types of Boolean operators?\n",
    "Ans. three types of boolean operators are AND,OR,NOT\n",
    "for eg:\n",
    "    \n"
   ]
  },
  {
   "cell_type": "code",
   "execution_count": 4,
   "id": "5833dc81",
   "metadata": {},
   "outputs": [
    {
     "name": "stdout",
     "output_type": "stream",
     "text": [
      "True\n",
      "True\n",
      "False\n"
     ]
    }
   ],
   "source": [
    "a=20\n",
    "b=40\n",
    "print(a>15 and b<50)\n",
    "print(a>15 or b>50)\n",
    "print(not(a<30))\n"
   ]
  },
  {
   "cell_type": "markdown",
   "id": "3598ac39",
   "metadata": {},
   "source": [
    "# Q3. Make a list of each Boolean operator's truth tables (i.e. every possible combination of Boolean \n",
    "#    values for the operator and what it evaluate)\n",
    "    \n",
    "\n",
    "Ans Truth Table for and operator\n",
    "\n",
    "    True and True --> True\n",
    "    True and False --> False\n",
    "    False and True --> False\n",
    "    False and False --> False\n",
    "    \n",
    "    Truth Table for or operator\n",
    "    True or True --> True\n",
    "    True or False --> True\n",
    "    False or True --> True\n",
    "    False or False --> False\n",
    "    \n",
    "    Truth Table for not operator\n",
    "    True not --> False \n",
    "    False not --> True"
   ]
  },
  {
   "cell_type": "markdown",
   "id": "316712db",
   "metadata": {},
   "source": [
    "# Q4. What are the values of the following expressions ?\n",
    "\n",
    "\n",
    "(5 > 4) and (3 == 5)\n",
    "not (5 > 4)\n",
    "(5 > 4) or (3 == 5)\n",
    "not ((5 > 4) or (3 == 5))\n",
    "(True and True) and (True == False)\n",
    "(not False) or (not True)"
   ]
  },
  {
   "cell_type": "code",
   "execution_count": 5,
   "id": "73e25209",
   "metadata": {},
   "outputs": [
    {
     "name": "stdout",
     "output_type": "stream",
     "text": [
      "False\n",
      "False\n",
      "True\n",
      "False\n",
      "False\n",
      "True\n"
     ]
    }
   ],
   "source": [
    "print((5>4)and(3==5))                   # False\n",
    "print(not(5>4))                         # False\n",
    "print((5>4)or(3==5))                    # True\n",
    "print(not((5>4)or(3==5)))               # False\n",
    "print((True and True)and(True==False))  # False\n",
    "print((not False)or(not True))          # True"
   ]
  },
  {
   "cell_type": "markdown",
   "id": "2cd3edf7",
   "metadata": {},
   "source": [
    "# 5. What are the six comparison operators?\n",
    "\n",
    "Ans: The Six Comparision Operators available in python are: == , != , < , > , <= , =>"
   ]
  },
  {
   "cell_type": "markdown",
   "id": "d348a9db",
   "metadata": {},
   "source": [
    "# Q6. How do you tell the difference between the equal to and assignment operators? Describe a \n",
    "# condition and when you would use one?\n",
    "\n",
    "Ans: == is the equal to operator that compares two values and evaluates to a Boolean, \n",
    "    while = is that assignment operator that stores a value in a variable."
   ]
  },
  {
   "cell_type": "code",
   "execution_count": 6,
   "id": "e7b9f8f1",
   "metadata": {},
   "outputs": [
    {
     "name": "stdout",
     "output_type": "stream",
     "text": [
      "False\n"
     ]
    }
   ],
   "source": [
    "b=10 # Assigning operator that stores 3 value in a variable a\n",
    "if b==6:#comparing values of a varible value and 3\n",
    "    print(b==3)  "
   ]
  },
  {
   "cell_type": "code",
   "execution_count": null,
   "id": "66961856",
   "metadata": {},
   "outputs": [],
   "source": [
    "Q 7. Identify the three blocks in this code:\n",
    "spam = 0\n",
    "if spam == 10:\n",
    "print('eggs')\n",
    "if spam > 5:\n",
    "print('bacon')\n",
    "else:\n",
    "print('ham')\n",
    "print('spam')\n",
    "print('spam')\n",
    "\n",
    "Ans: initially spam =0 ,First it will check if block as spam is not equal to 10 it will now check \n",
    "    another if block here condition fails as spam is not greater than 5 so else block will excecute.\n",
    "\n",
    "ham\n",
    "\n",
    "spam\n",
    "\n",
    "spam"
   ]
  },
  {
   "cell_type": "markdown",
   "id": "492bd5fc",
   "metadata": {},
   "source": [
    "# 8. Write code that prints Hello if 1 is stored in spam, prints Howdy if 2 is stored in spam, and prints\n",
    "# Greetings! if anything else is stored in spam."
   ]
  },
  {
   "cell_type": "code",
   "execution_count": 7,
   "id": "cd7486ef",
   "metadata": {},
   "outputs": [
    {
     "name": "stdout",
     "output_type": "stream",
     "text": [
      "Hello\n",
      "Howdy\n",
      "Greetings\n"
     ]
    }
   ],
   "source": [
    "def task(spam):\n",
    "    if spam==1:\n",
    "        print('Hello')\n",
    "    elif spam==2:\n",
    "        print('Howdy')\n",
    "    else:\n",
    "        print('Greetings')\n",
    "        \n",
    "task(1)\n",
    "task(2)\n",
    "task(3)"
   ]
  },
  {
   "cell_type": "markdown",
   "id": "86e37db0",
   "metadata": {},
   "source": [
    "# 9.If your programme is stuck in an endless loop, what keys you’ll press?\n",
    "\n",
    "Ans: To stop a program stuck in an infinite loop, we press Ctrl+c."
   ]
  },
  {
   "cell_type": "markdown",
   "id": "c07048d7",
   "metadata": {},
   "source": [
    "# 10. How can you tell the difference between break and continue?\n",
    "\n",
    "Ans: The break statement will move the execution outside of the loop if break condtion is met\n",
    "    whereas the continue statement will give the control to start of loop.\n",
    "    Example of break and continue is mentioned below:"
   ]
  },
  {
   "cell_type": "code",
   "execution_count": 8,
   "id": "7cce421b",
   "metadata": {},
   "outputs": [
    {
     "name": "stdout",
     "output_type": "stream",
     "text": [
      "s\n",
      "t\n",
      "r\n",
      "The end\n"
     ]
    }
   ],
   "source": [
    "# Use of break statement inside the loop\n",
    "\n",
    "for val in \"string\":\n",
    "    if val == \"i\":\n",
    "        break\n",
    "    print(val)\n",
    "\n",
    "print(\"The end\")"
   ]
  },
  {
   "cell_type": "code",
   "execution_count": 9,
   "id": "c6892591",
   "metadata": {},
   "outputs": [
    {
     "name": "stdout",
     "output_type": "stream",
     "text": [
      "s\n",
      "t\n",
      "r\n",
      "n\n",
      "g\n",
      "The end\n"
     ]
    }
   ],
   "source": [
    "# Program to show the use of continue statement inside loops\n",
    "\n",
    "for val in \"string\":\n",
    "    if val == \"i\":\n",
    "        continue\n",
    "    print(val)\n",
    "\n",
    "print(\"The end\")"
   ]
  },
  {
   "cell_type": "markdown",
   "id": "a3280764",
   "metadata": {},
   "source": [
    "# 11. In a for loop, what is the difference between range(10), range(0, 10), and range(0, 10, 1)?\n",
    "\n",
    "Ans: The Differences are as follows:\n",
    "\n"
   ]
  },
  {
   "cell_type": "code",
   "execution_count": null,
   "id": "fa9dca9e",
   "metadata": {},
   "outputs": [],
   "source": [
    "The range(10) call range from 0 to 9 (but not include 10)\n",
    "The range (0,10) explicitly tells the loop to start at 0\n",
    "The range(0,10,1) explicitly tells the loop to increase the variable by 1 on each iteration"
   ]
  },
  {
   "cell_type": "markdown",
   "id": "d0ddcf88",
   "metadata": {},
   "source": [
    "# 12. Write a short program that prints the numbers 1 to 10 using a for loop. Then write an equivalent program that prints the numbers 1 to 10 using a while loop ?"
   ]
  },
  {
   "cell_type": "code",
   "execution_count": 12,
   "id": "a4950743",
   "metadata": {},
   "outputs": [
    {
     "name": "stdout",
     "output_type": "stream",
     "text": [
      "---------- Using For Loop ----------\n",
      "1 2 3 4 5 6 7 8 9 10 \n",
      "\n",
      "---------- Using While Loop ----------\n",
      "1 2 3 4 5 6 7 8 9 10 "
     ]
    }
   ],
   "source": [
    "print('-'*10,'Using For Loop','-'*10)\n",
    "for i in range(1,11):\n",
    "    print(i, end=\" \")\n",
    "print('\\n')\n",
    "print('-'*10,'Using While Loop','-'*10) \n",
    "i=1\n",
    "while i<=10:\n",
    "    print(i, end=\" \")\n",
    "    i+=1"
   ]
  },
  {
   "cell_type": "markdown",
   "id": "1cafe6c9",
   "metadata": {},
   "source": [
    "# 13. If you had a function named bacon() inside a module named spam, how would you call it after importing spam ?\n",
    "\n",
    "Ans: This function can be called with spam.bacon()"
   ]
  },
  {
   "cell_type": "code",
   "execution_count": null,
   "id": "64adefaa",
   "metadata": {},
   "outputs": [],
   "source": []
  }
 ],
 "metadata": {
  "kernelspec": {
   "display_name": "Python 3",
   "language": "python",
   "name": "python3"
  },
  "language_info": {
   "codemirror_mode": {
    "name": "ipython",
    "version": 3
   },
   "file_extension": ".py",
   "mimetype": "text/x-python",
   "name": "python",
   "nbconvert_exporter": "python",
   "pygments_lexer": "ipython3",
   "version": "3.9.0"
  }
 },
 "nbformat": 4,
 "nbformat_minor": 5
}
