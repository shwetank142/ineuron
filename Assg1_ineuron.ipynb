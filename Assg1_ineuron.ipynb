{
 "cells": [
  {
   "cell_type": "code",
   "execution_count": null,
   "id": "0e8c7a94",
   "metadata": {},
   "outputs": [],
   "source": [
    "1) In the below elements which of them are values or an expression? eg:- values can be\n",
    "   integer or string and expressions will be mathematical operators.\n",
    "   \n",
    "*\n",
    "'hello'\n",
    "-87.8\n",
    "-\n",
    "/\n",
    "+\n",
    "6\n",
    "\n",
    "Ans1) values are 'hello' , -87.8 , and 6\n",
    "      expressions are *,-,/,+"
   ]
  },
  {
   "cell_type": "code",
   "execution_count": null,
   "id": "f1731032",
   "metadata": {},
   "outputs": [],
   "source": [
    "2) What is the difference between string and variable?\n",
    "\n",
    "Ans2) String is a immutable datatype in python i.e contents of string can't be changed once assigned \n",
    "      whereas Variable is just like container which temporary stores values and can be used for later\n",
    "      purpose based on requirement.\n"
   ]
  },
  {
   "cell_type": "code",
   "execution_count": null,
   "id": "e888c4b1",
   "metadata": {},
   "outputs": [],
   "source": [
    "3) Describe three different data types.\n",
    "\n",
    "Ans3) Three data types are:\n",
    "      i) List : It is mutable in nature i.e. it supports item assignment and hence same reflects \n",
    "                inside the memory.\n",
    "                It can store homogenous and heterogenous objects.\n",
    "                List's elements are present inside square brackets.\n",
    "                e.g. lst=[1,True,'hi']\n",
    "                \n",
    "     ii) Tuple: It is immutable unlike list. \n",
    "                It can also contain homogenous and heterogenous elements.\n",
    "                It starts and ends with small bracket.\n",
    "                e.g. t=('ineuron',34,'tuple',False,12.7)\n",
    "                \n",
    "     iii) String: It is collection of characters which is present inside single or double quotes.\n",
    "                  It is immutable in nature like tuple.\n",
    "                  Python has built-in string class named str.\n",
    "                  e.g. 'Hey! I am Learning Full Stack Data Science Course'"
   ]
  },
  {
   "cell_type": "code",
   "execution_count": null,
   "id": "2bf14f7c",
   "metadata": {},
   "outputs": [],
   "source": [
    "4) What is an expression made up of? What do all expressions do?\n",
    "\n",
    "Ans4) Expression is just a combination of operators and operands that is interpreted to produce some \n",
    "      other value.\n",
    "      The purpose of an expression is to create a value. "
   ]
  },
  {
   "cell_type": "code",
   "execution_count": null,
   "id": "bb10bd68",
   "metadata": {},
   "outputs": [],
   "source": [
    "5) This assignment statements, like spam = 10. What is the difference between an\n",
    "   expression and a statement?\n",
    "\n",
    "Ans) The most basic difference between statement and expression is that expression populates or return\n",
    "     new values whereas statement doesn't return new thing.\n",
    "     "
   ]
  },
  {
   "cell_type": "code",
   "execution_count": null,
   "id": "b5db4542",
   "metadata": {},
   "outputs": [],
   "source": [
    "6. After running the following code, what does the variable bacon contain?\n",
    "   bacon = 22\n",
    "   bacon + 1"
   ]
  },
  {
   "cell_type": "code",
   "execution_count": 2,
   "id": "c2340b41",
   "metadata": {},
   "outputs": [
    {
     "data": {
      "text/plain": [
       "22"
      ]
     },
     "execution_count": 2,
     "metadata": {},
     "output_type": "execute_result"
    }
   ],
   "source": [
    "bacon = 22\n",
    "bacon + 1\n",
    "bacon\n",
    "\n",
    "Ans6) So the bacon value remains same i.e. 22 because 1 is added to bacon but it was not assigned to bacon\n",
    "      so previous value didnt change."
   ]
  },
  {
   "cell_type": "code",
   "execution_count": null,
   "id": "44a5d379",
   "metadata": {},
   "outputs": [],
   "source": [
    "7. What should the values of the following two terms be?\n",
    "'spam'+'spamspam'\n",
    "'spam'* 3\n",
    "\n",
    "Ans7) spamspamspam\n",
    "      spamspamspam"
   ]
  },
  {
   "cell_type": "code",
   "execution_count": null,
   "id": "47cb8a62",
   "metadata": {},
   "outputs": [],
   "source": [
    "8) Why is eggs a valid variable name while 100 is invalid?\n",
    "\n",
    "Ans8) Varibale name can't starts with number so 100 is invalid variable name."
   ]
  },
  {
   "cell_type": "code",
   "execution_count": null,
   "id": "86bf5fef",
   "metadata": {},
   "outputs": [],
   "source": [
    "9. What three functions can be used to get the integer, floating-point number, or string\n",
    "   version of a value?\n",
    "Ans9) int()\n",
    "      float()\n",
    "      str()"
   ]
  },
  {
   "cell_type": "code",
   "execution_count": null,
   "id": "4344b125",
   "metadata": {},
   "outputs": [],
   "source": [
    "10) Why does this expression cause an error? How can you fix it?\n",
    "   'I have eaten'+99+'burritos.'\n",
    "    \n",
    "Ans10) Because string can only concatinates the string but not the integer here 100 is integer \n",
    "       to make this error free 100 needs to be converted into string."
   ]
  }
 ],
 "metadata": {
  "kernelspec": {
   "display_name": "Python 3",
   "language": "python",
   "name": "python3"
  },
  "language_info": {
   "codemirror_mode": {
    "name": "ipython",
    "version": 3
   },
   "file_extension": ".py",
   "mimetype": "text/x-python",
   "name": "python",
   "nbconvert_exporter": "python",
   "pygments_lexer": "ipython3",
   "version": "3.9.0"
  }
 },
 "nbformat": 4,
 "nbformat_minor": 5
}
