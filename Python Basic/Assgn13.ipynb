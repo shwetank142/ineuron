{
 "cells": [
  {
   "cell_type": "code",
   "execution_count": null,
   "id": "1b88547a",
   "metadata": {},
   "outputs": [],
   "source": [
    "#1. What advantages do Excel spreadsheets have over CSV spreadsheets?\n",
    "\n",
    "Ans: The Advantages of Excel over CSV are:\n",
    "\n",
    "Excel (XLS and XLSX) file formats are better for storing and analysing complex data.\n",
    "An Excel not only stores data but can also do operations on the data using macros, formulas etc\n",
    "CSV files are plain-text files, Does not contain formatting, formulas, macros, etc. It is also known as flat files"
   ]
  },
  {
   "cell_type": "code",
   "execution_count": null,
   "id": "c29e87c0",
   "metadata": {},
   "outputs": [],
   "source": [
    "#2.What do you pass to csv.reader() and csv.writer() to create reader and writer objects?\n",
    "\n",
    "import csv\n",
    "with open('text.csv','r') as file:\n",
    "    csv_file = csv.reader(file,delimiter=',')\n",
    "    for ele in csv_file:\n",
    "        print(ele)"
   ]
  },
  {
   "cell_type": "code",
   "execution_count": null,
   "id": "6608ec4c",
   "metadata": {},
   "outputs": [],
   "source": [
    "# 3. What modes do File objects for reader and writer objects need to be opened in?\n",
    "\n",
    "Ans: For csv.reader(iterable_file_object), the file objects needed to be opened in read mode mode='r' Whereas for\n",
    "     csv.writer(iterable_file_object) the file objects needed to be opened in write mode mode='w'"
   ]
  },
  {
   "cell_type": "code",
   "execution_count": null,
   "id": "ca20a400",
   "metadata": {},
   "outputs": [],
   "source": [
    "#4. What method takes a list argument and writes it to a CSV file?\n",
    "Ans: csv.writer class provides two methods for writing to CSV. They are writerow() and writerows(). writerow() method\n",
    "    writes a single row at a time. Whereas writerows() method is used to write multiple rows at a time."
   ]
  },
  {
   "cell_type": "code",
   "execution_count": null,
   "id": "6bc04e87",
   "metadata": {},
   "outputs": [],
   "source": [
    "# Example Program\n",
    "import csv      \n",
    "fields = ['Name', 'Branch', 'Year', 'CGPA'] #column names \n",
    "rows = [ \n",
    "            ['Gaurav', 'COE', '2', '9.0'],  # data rows of csv file \n",
    "            ['Vivek', 'COE', '2', '9.1'], \n",
    "            ['Ram', 'IT', '2', '9.3']\n",
    "       ] \n",
    "with open(\"university_records.csv\", 'w') as csvfile: \n",
    "    csvwriter = csv.writer(csvfile) # creating a csv writer object \n",
    "    csvwriter.writerow(fields) # writing the fields \n",
    "    csvwriter.writerows(rows) # writing the data rows "
   ]
  },
  {
   "cell_type": "code",
   "execution_count": null,
   "id": "c231f9ff",
   "metadata": {},
   "outputs": [],
   "source": [
    "#5. What do the keyword arguments delimiter and line terminator do?\n",
    "\n",
    "Ans: Lets take the example of a csv file:\n",
    "First Name, Last Name, Age\n",
    "Gaurav, Ratan, 28\n",
    "Krish, Naik, 30\n",
    "Here ',' is Delimiter. We can use any Character as per our needs if required. Similarly Line Terminator comes at end of\n",
    "line by default it is newline and can be changed accourding to Requirement."
   ]
  },
  {
   "cell_type": "code",
   "execution_count": null,
   "id": "aafe20ba",
   "metadata": {},
   "outputs": [],
   "source": [
    "#6. What function takes a string of JSON data and returns a Python data structure?\n",
    "Ans: loads() method takes a string of JSON data and returns a Python data structure\n",
    "\n",
    "# Example of json.loads() method\n",
    "import json\n",
    "my_details_json ='''{\n",
    "    \"Name\": \"Gaurav Ratan\",\n",
    "    \"Qualification\": \"Master in Business Administration\",\n",
    "    \"Stream\": \"Marketing and Analytics\"\n",
    "}'''\n",
    "print(my_details_json)\n",
    "print(f'Type of my_details_json is {type(my_details_json)}')\n",
    "my_details = json.loads(my_details_json)\n",
    "print(my_details)\n",
    "print(f'Type of my_details is {type(my_details)}')"
   ]
  },
  {
   "cell_type": "code",
   "execution_count": null,
   "id": "cc1d1719",
   "metadata": {},
   "outputs": [],
   "source": [
    "#7. What function takes a Python data structure and returns a string of JSON data?\n",
    "Ans: dumps() method takes a python data structure and returns a string of JSON data\n",
    "\n",
    "# Example of json.dumps() method\n",
    "import json\n",
    "my_details = {\n",
    "    \"Name\": \"Gaurav Ratan\",\n",
    "    \"Qualification\": \"Master in Business Administration\",\n",
    "    \"Stream\": \"Marketing and Analytics\"\n",
    "}\n",
    "print(my_details)\n",
    "print(f'Type of my_details is {type(my_details)}')\n",
    "my_details_json = json.dumps(my_details, indent=4, sort_keys=True)\n",
    "print(my_details_json)\n",
    "print(f'Type of my_details_json is {type(my_details_json)}')"
   ]
  },
  {
   "cell_type": "code",
   "execution_count": null,
   "id": "5bce310b",
   "metadata": {},
   "outputs": [],
   "source": []
  },
  {
   "cell_type": "code",
   "execution_count": null,
   "id": "88a37ab9",
   "metadata": {},
   "outputs": [],
   "source": []
  }
 ],
 "metadata": {
  "kernelspec": {
   "display_name": "Python 3",
   "language": "python",
   "name": "python3"
  },
  "language_info": {
   "codemirror_mode": {
    "name": "ipython",
    "version": 3
   },
   "file_extension": ".py",
   "mimetype": "text/x-python",
   "name": "python",
   "nbconvert_exporter": "python",
   "pygments_lexer": "ipython3",
   "version": "3.9.0"
  }
 },
 "nbformat": 4,
 "nbformat_minor": 5
}
