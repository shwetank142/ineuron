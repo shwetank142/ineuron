{
 "cells": [
  {
   "cell_type": "code",
   "execution_count": null,
   "id": "e8556a1e-f223-47d2-8d09-29db4ae4e01e",
   "metadata": {},
   "outputs": [],
   "source": [
    "Q1. Write a Python program to print 'Hello Python'"
   ]
  },
  {
   "cell_type": "code",
   "execution_count": 1,
   "id": "e66f9614-7c1b-40bc-a539-ad6013eb4146",
   "metadata": {},
   "outputs": [
    {
     "name": "stdout",
     "output_type": "stream",
     "text": [
      "Hello Python\n"
     ]
    }
   ],
   "source": [
    "print('Hello Python')"
   ]
  },
  {
   "cell_type": "code",
   "execution_count": null,
   "id": "d741298f-983d-4ede-9085-f49be4f2ebd8",
   "metadata": {},
   "outputs": [],
   "source": [
    "Q2. Write a Python program to do arithmetical operations addition and division.?"
   ]
  },
  {
   "cell_type": "code",
   "execution_count": 5,
   "id": "4d16ccb5-bfb1-4c84-93b7-e05f21c8d34d",
   "metadata": {},
   "outputs": [],
   "source": [
    "def airthmeticOperation(a,b,operator):\n",
    "    if operator=='+':\n",
    "        return a+b\n",
    "    elif operator==\"/\":\n",
    "        return a/b"
   ]
  },
  {
   "cell_type": "code",
   "execution_count": 6,
   "id": "7aaca69a-d8dd-46c0-922f-741d9d37da4e",
   "metadata": {},
   "outputs": [
    {
     "name": "stdin",
     "output_type": "stream",
     "text": [
      "Enter addition or Division Symbol for airthmetic operation:  /\n",
      " 81\n",
      " 9\n"
     ]
    },
    {
     "name": "stdout",
     "output_type": "stream",
     "text": [
      "9.0\n"
     ]
    }
   ],
   "source": [
    "operator=input('Enter addition or Division Symbol for airthmetic operation: ')\n",
    "a=int(input())\n",
    "b=int(input())\n",
    "print(airthmeticOperation(a,b,operator))"
   ]
  },
  {
   "cell_type": "code",
   "execution_count": null,
   "id": "c8b78de8-2b63-46c3-8abb-52ed51279258",
   "metadata": {},
   "outputs": [],
   "source": [
    "Q.3. Write a Python program to find the area of a triangle?"
   ]
  },
  {
   "cell_type": "code",
   "execution_count": 2,
   "id": "b38e2475-b37b-4dbe-a80c-1cb36616f83d",
   "metadata": {},
   "outputs": [
    {
     "name": "stdin",
     "output_type": "stream",
     "text": [
      " 3\n",
      " 6\n",
      " 7\n"
     ]
    },
    {
     "name": "stdout",
     "output_type": "stream",
     "text": [
      "8.94427190999916\n"
     ]
    }
   ],
   "source": [
    "import math\n",
    "a=float(input())\n",
    "b=float(input())\n",
    "c=float(input())\n",
    "s=(a+b+c)/2\n",
    "area=(s*(s-a)*(s-b)*(s-c))\n",
    "print(math.sqrt(area))"
   ]
  },
  {
   "cell_type": "code",
   "execution_count": null,
   "id": "6a4c1029-0c18-4fc8-a915-ec7461f340c8",
   "metadata": {},
   "outputs": [],
   "source": [
    "Q4. Write a Python program to swap two variables?"
   ]
  },
  {
   "cell_type": "code",
   "execution_count": 5,
   "id": "4e5c92b2-f978-47ef-b366-80fbd082b9ff",
   "metadata": {},
   "outputs": [],
   "source": [
    "def swap(a,b):\n",
    "    a,b=b,a\n",
    "    return a,b\n"
   ]
  },
  {
   "cell_type": "code",
   "execution_count": 6,
   "id": "1458838a-c5b9-47a3-a12f-2c82fa0c7e9b",
   "metadata": {},
   "outputs": [
    {
     "data": {
      "text/plain": [
       "(8, 5)"
      ]
     },
     "execution_count": 6,
     "metadata": {},
     "output_type": "execute_result"
    }
   ],
   "source": [
    "a=5\n",
    "b=8\n",
    "swap(a,b)"
   ]
  },
  {
   "cell_type": "code",
   "execution_count": null,
   "id": "1a5eda32-4e7a-4af4-973e-8465f1596b6c",
   "metadata": {},
   "outputs": [],
   "source": [
    "Q5. Write a Python program to generate a random number?"
   ]
  },
  {
   "cell_type": "code",
   "execution_count": 8,
   "id": "945ec2a9-e687-4d2c-977f-62d88ebd60ed",
   "metadata": {},
   "outputs": [],
   "source": [
    "import numpy as np"
   ]
  },
  {
   "cell_type": "code",
   "execution_count": 10,
   "id": "5f45247e-4e3d-47f6-984b-faea71135f94",
   "metadata": {},
   "outputs": [
    {
     "data": {
      "text/plain": [
       "array([77, 96,  2, 43, 18, 18])"
      ]
     },
     "execution_count": 10,
     "metadata": {},
     "output_type": "execute_result"
    }
   ],
   "source": [
    "nums=np.random.randint(1,100,6)\n",
    "nums"
   ]
  },
  {
   "cell_type": "code",
   "execution_count": null,
   "id": "0ac87cf3-95ce-465e-9af5-29781e48d522",
   "metadata": {},
   "outputs": [],
   "source": []
  }
 ],
 "metadata": {
  "kernelspec": {
   "display_name": "Python 3 (ipykernel)",
   "language": "python",
   "name": "python3"
  },
  "language_info": {
   "codemirror_mode": {
    "name": "ipython",
    "version": 3
   },
   "file_extension": ".py",
   "mimetype": "text/x-python",
   "name": "python",
   "nbconvert_exporter": "python",
   "pygments_lexer": "ipython3",
   "version": "3.9.12"
  }
 },
 "nbformat": 4,
 "nbformat_minor": 5
}
