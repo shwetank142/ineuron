{
 "cells": [
  {
   "cell_type": "code",
   "execution_count": null,
   "id": "bbd67c94",
   "metadata": {},
   "outputs": [],
   "source": [
    "1. Why are functions advantageous to have in your programs?\n",
    "\n",
    "Ans: Below are the advantages of functions in programming:\n",
    "\n",
    "The main advantage of functions is code Reusability.\n",
    "Increases program readability.\n",
    "Divide a complex problem into simpler ones.\n",
    "Reduces chances of error.\n",
    "Modifying a program becomes easier by using function"
   ]
  },
  {
   "cell_type": "code",
   "execution_count": null,
   "id": "4d488f34",
   "metadata": {},
   "outputs": [],
   "source": [
    "2. When does the code in a function run: when it's specified or when it's called?\n",
    "    \n",
    "Ans: Generally function runs when we call the function name. When a function is \"called\" the program \n",
    "    \"leaves\" the current section of code and begins to execute the first line inside the function. \n",
    "    Function can take arguments and function can even run without the arguments by returning the\n",
    "    output.\n",
    "    Example is mentioned below:"
   ]
  },
  {
   "cell_type": "code",
   "execution_count": 4,
   "id": "9155eb3f",
   "metadata": {},
   "outputs": [
    {
     "data": {
      "text/plain": [
       "'I am doing python basic assignment 3'"
      ]
     },
     "execution_count": 4,
     "metadata": {},
     "output_type": "execute_result"
    }
   ],
   "source": [
    "# without arguments\n",
    "def test1():\n",
    "    return 'I am doing python basic assignment 3'\n",
    "test1()\n",
    "\n"
   ]
  },
  {
   "cell_type": "code",
   "execution_count": 5,
   "id": "2f91d2c1",
   "metadata": {},
   "outputs": [
    {
     "name": "stdout",
     "output_type": "stream",
     "text": [
      "Data is new fuel..! Agree or not?\n"
     ]
    }
   ],
   "source": [
    "#with arguments\n",
    "def test2(string):\n",
    "    print('Data is new fuel..!'+' '+string)\n",
    "test2('Agree or not?')"
   ]
  },
  {
   "cell_type": "code",
   "execution_count": null,
   "id": "b75a4f62",
   "metadata": {},
   "outputs": [],
   "source": [
    "3. What statement creates a function?\n",
    "\n",
    "Ans: The keyword def defines a function.\n",
    "    \n",
    "    syntax is given below \n",
    "    \n",
    "    def imfunction(parameter):\n",
    "        ''' doc string'''\n",
    "        'function body'\n",
    "        return value"
   ]
  },
  {
   "cell_type": "code",
   "execution_count": null,
   "id": "1ad6c7be",
   "metadata": {},
   "outputs": [],
   "source": [
    "4. What is the difference between a function and a function call?\n",
    "\n",
    "Ans: A function is a block of code that does a particular operation and returns a result. It usually \n",
    "    accepts inputs as parameters and returns a result. The parameters are not mandatory. A function \n",
    "    call is the code used to pass control to a function.\n",
    "\n",
    "def func():           #function\n",
    "    return 'hi'\n",
    "func()                #function call"
   ]
  },
  {
   "cell_type": "code",
   "execution_count": null,
   "id": "4c7b551a",
   "metadata": {},
   "outputs": [],
   "source": [
    "5. How many global scopes are there in a Python program? How many local scopes?\n",
    "Ans: There is one global scope, and a local scope is created whenever a function is called. A variable\n",
    "    created inside a function belongs to the local scope of that function, and can only be used inside\n",
    "    that function whereas A variable created in the main body of the Python code is a global variable\n",
    "    and belongs to the global scope."
   ]
  },
  {
   "cell_type": "code",
   "execution_count": 6,
   "id": "386feb78",
   "metadata": {},
   "outputs": [
    {
     "name": "stdout",
     "output_type": "stream",
     "text": [
      "19\n"
     ]
    }
   ],
   "source": [
    "#Example of Local Scope\n",
    "def myfunc():\n",
    "  x = 19\n",
    "  def myinnerfunc():\n",
    "    print(x)\n",
    "  myinnerfunc()\n",
    "\n",
    "myfunc() \n"
   ]
  },
  {
   "cell_type": "code",
   "execution_count": 8,
   "id": "5e4ac213",
   "metadata": {},
   "outputs": [
    {
     "name": "stdout",
     "output_type": "stream",
     "text": [
      "19\n",
      "19\n"
     ]
    }
   ],
   "source": [
    "#Example of Global Scope\n",
    "x = 19\n",
    "\n",
    "def myfunc():\n",
    "  print(x)\n",
    "\n",
    "myfunc()\n",
    "\n",
    "print(x) "
   ]
  },
  {
   "cell_type": "code",
   "execution_count": null,
   "id": "93d5a228",
   "metadata": {},
   "outputs": [],
   "source": [
    "6. What happens to variables in a local scope when the function call returns?\n",
    "\n",
    "Ans:When a function returns, the local scope is destroyed, and all the variables in it are forgotten.\n",
    "    A local variable becomes undefined after the function call completes."
   ]
  },
  {
   "cell_type": "code",
   "execution_count": null,
   "id": "ba2c02ea",
   "metadata": {},
   "outputs": [],
   "source": [
    "7. What is the concept of a return value? Is it possible to have a return value in an expression?\n",
    "\n",
    "Ans: The Python return statement is a key component of functions and methods. We can use the return \n",
    "statement to make functions send Python objects back to the caller code. These objects are known as \n",
    "the function’s return value. A return value is the value that a function call evaluates to. Like any \n",
    "value, a return value can be used as part of an expression."
   ]
  },
  {
   "cell_type": "code",
   "execution_count": null,
   "id": "73e1fef6",
   "metadata": {},
   "outputs": [],
   "source": [
    "8. If a function does not have a return statement, what is the return value of a call to that \n",
    "function?\n",
    "\n",
    "Ans: If there is no return statement for a function, its return value is None. The function always \n",
    "returns None if explicit return is not written."
   ]
  },
  {
   "cell_type": "code",
   "execution_count": null,
   "id": "1c66ddfe",
   "metadata": {},
   "outputs": [],
   "source": [
    "9. How do you make a function variable refer to the global variable?\n",
    "\n",
    "Ans: A global statement will force a variable in a function to refer to the global variable. If you\n",
    "    want to refer to a global variable in a function, you can use the global keyword to declare which\n",
    "    variables are global."
   ]
  },
  {
   "cell_type": "code",
   "execution_count": null,
   "id": "0977e305",
   "metadata": {},
   "outputs": [],
   "source": [
    "10. What is the data type of None?\n",
    "\n",
    "Ans: The data type of None is NoneType"
   ]
  },
  {
   "cell_type": "code",
   "execution_count": null,
   "id": "d984fc96",
   "metadata": {},
   "outputs": [],
   "source": [
    "11. What does the sentence import areallyourpetsnamederic do?\n",
    "\n",
    "Ans: That import statement imports a module named areallyourpetsnamederic."
   ]
  },
  {
   "cell_type": "code",
   "execution_count": null,
   "id": "feb1318a",
   "metadata": {},
   "outputs": [],
   "source": [
    "12. If you had a bacon() feature in a spam module, what would you call it after importing spam?\n",
    "\n",
    "Ans: This function can be called with spam.bacon()."
   ]
  },
  {
   "cell_type": "code",
   "execution_count": null,
   "id": "527982dc",
   "metadata": {},
   "outputs": [],
   "source": [
    "13. What can you do to save a programme from crashing if it encounters an error?\n",
    "\n",
    "Ans: We can place the line of code that might cause an error in a try clause and use except block \n",
    "    to handle the error as mentioned below:"
   ]
  },
  {
   "cell_type": "code",
   "execution_count": 11,
   "id": "35d24594",
   "metadata": {},
   "outputs": [
    {
     "name": "stdout",
     "output_type": "stream",
     "text": [
      "An exception occurred\n"
     ]
    }
   ],
   "source": [
    "try:\n",
    "    x=100/0\n",
    "    print(x)\n",
    "except:\n",
    "  print(\"An exception occurred\") "
   ]
  },
  {
   "cell_type": "code",
   "execution_count": null,
   "id": "5980f734",
   "metadata": {},
   "outputs": [],
   "source": [
    "14. What is the purpose of the try clause? What is the purpose of the except clause?\n",
    "\n",
    "ANS:The code that could potentially cause an error goes in the try clause. The code that executes \n",
    "    if an error happens goes in the except clause.\n",
    "    "
   ]
  }
 ],
 "metadata": {
  "kernelspec": {
   "display_name": "Python 3",
   "language": "python",
   "name": "python3"
  },
  "language_info": {
   "codemirror_mode": {
    "name": "ipython",
    "version": 3
   },
   "file_extension": ".py",
   "mimetype": "text/x-python",
   "name": "python",
   "nbconvert_exporter": "python",
   "pygments_lexer": "ipython3",
   "version": "3.9.0"
  }
 },
 "nbformat": 4,
 "nbformat_minor": 5
}
