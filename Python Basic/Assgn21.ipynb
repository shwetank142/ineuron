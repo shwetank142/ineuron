{
 "cells": [
  {
   "cell_type": "code",
   "execution_count": null,
   "id": "27fc06f7",
   "metadata": {},
   "outputs": [],
   "source": [
    "1. Add the current date to the text file today.txt as a string."
   ]
  },
  {
   "cell_type": "code",
   "execution_count": 10,
   "id": "4dad23f3",
   "metadata": {},
   "outputs": [],
   "source": [
    "import datetime"
   ]
  },
  {
   "cell_type": "code",
   "execution_count": 11,
   "id": "2970cd0d",
   "metadata": {},
   "outputs": [],
   "source": [
    "date=datetime.datetime.now().strftime(\"%d-%m-%y\")"
   ]
  },
  {
   "cell_type": "code",
   "execution_count": 12,
   "id": "802d4f1c",
   "metadata": {},
   "outputs": [],
   "source": [
    "with open('today.txt','w') as f:\n",
    "    f.write(date)\n",
    "    f.close()\n"
   ]
  },
  {
   "cell_type": "code",
   "execution_count": null,
   "id": "db666599",
   "metadata": {},
   "outputs": [],
   "source": [
    "2. Read the text file today.txt into the string today_string"
   ]
  },
  {
   "cell_type": "code",
   "execution_count": 13,
   "id": "b2b8bfe3",
   "metadata": {},
   "outputs": [
    {
     "name": "stdout",
     "output_type": "stream",
     "text": [
      "03-09-22\n"
     ]
    }
   ],
   "source": [
    "with open('today.txt','r') as f:\n",
    "    today_string=f.read()\n",
    "    print(today_string)\n",
    "    f.close()"
   ]
  },
  {
   "cell_type": "code",
   "execution_count": null,
   "id": "3d82cd9d",
   "metadata": {},
   "outputs": [],
   "source": [
    "3. Parse the date from today_string."
   ]
  },
  {
   "cell_type": "code",
   "execution_count": 16,
   "id": "2291608b",
   "metadata": {},
   "outputs": [
    {
     "name": "stdout",
     "output_type": "stream",
     "text": [
      "2022-09-03 00:00:00\n"
     ]
    }
   ],
   "source": [
    "from datetime import datetime\n",
    "parsed_data = datetime.strptime(today_string,\"%d-%m-%y\")\n",
    "print(parsed_data) "
   ]
  },
  {
   "cell_type": "code",
   "execution_count": null,
   "id": "9fb6633d",
   "metadata": {},
   "outputs": [],
   "source": [
    "4. List the files in your current directory"
   ]
  },
  {
   "cell_type": "code",
   "execution_count": 18,
   "id": "499fa09b",
   "metadata": {},
   "outputs": [
    {
     "name": "stdout",
     "output_type": "stream",
     "text": [
      "Assg1_ineuron.ipynb\n",
      "Assgn10.ipynb\n",
      "Assgn11.ipynb\n",
      "Assgn12.ipynb\n",
      "Assgn13.ipynb\n",
      "Assgn15.ipynb\n",
      "Assgn16.ipynb\n",
      "Assgn17.ipynb\n",
      "Assgn18.ipynb\n",
      "Assgn19.ipynb\n",
      "assgn2.ipynb\n",
      "Assgn20.ipynb\n",
      "Assgn21.ipynb\n",
      "Assgn4.ipynb\n",
      "Assgn5.ipynb\n",
      "Assgn6.ipynb\n",
      "Assgn7.ipynb\n",
      "Assgn8.ipynb\n",
      "Assgn9.ipynb\n",
      "Assgn_3.ipynb\n",
      "books.csv\n",
      "books.db\n",
      "programLog.txt\n",
      "test.txt\n",
      "today.txt\n",
      "zoo.py\n",
      "Assgn10-checkpoint.ipynb\n",
      "Assgn11-checkpoint.ipynb\n",
      "Assgn12-checkpoint.ipynb\n",
      "Assgn13-checkpoint.ipynb\n",
      "Assgn15-checkpoint.ipynb\n",
      "Assgn16-checkpoint.ipynb\n",
      "Assgn17-checkpoint.ipynb\n",
      "Assgn18-checkpoint.ipynb\n",
      "Assgn19-checkpoint.ipynb\n",
      "Assgn20-checkpoint.ipynb\n",
      "Assgn21-checkpoint.ipynb\n",
      "Assgn4-checkpoint.ipynb\n",
      "Assgn5-checkpoint.ipynb\n",
      "Assgn6-checkpoint.ipynb\n",
      "Assgn7-checkpoint.ipynb\n",
      "Assgn8-checkpoint.ipynb\n",
      "Assgn9-checkpoint.ipynb\n",
      "zoo.cpython-39.pyc\n"
     ]
    }
   ],
   "source": [
    "import os\n",
    "for folders, subfolders, files in os.walk(os.getcwd()):\n",
    "    for file in files:\n",
    "        print(file)"
   ]
  },
  {
   "cell_type": "code",
   "execution_count": null,
   "id": "26eeb1fa",
   "metadata": {},
   "outputs": [],
   "source": [
    "5. Create a list of all of the files in your parent directory (minimum five files should be available)."
   ]
  },
  {
   "cell_type": "code",
   "execution_count": 21,
   "id": "c11be30b",
   "metadata": {},
   "outputs": [
    {
     "data": {
      "text/plain": [
       "['.ipynb_checkpoints',\n",
       " 'Assg1_ineuron.ipynb',\n",
       " 'Assgn10.ipynb',\n",
       " 'Assgn11.ipynb',\n",
       " 'Assgn12.ipynb',\n",
       " 'Assgn13.ipynb',\n",
       " 'Assgn15.ipynb',\n",
       " 'Assgn16.ipynb',\n",
       " 'Assgn17.ipynb',\n",
       " 'Assgn18.ipynb',\n",
       " 'Assgn19.ipynb',\n",
       " 'assgn2.ipynb',\n",
       " 'Assgn20.ipynb',\n",
       " 'Assgn21.ipynb',\n",
       " 'Assgn4.ipynb',\n",
       " 'Assgn5.ipynb',\n",
       " 'Assgn6.ipynb',\n",
       " 'Assgn7.ipynb',\n",
       " 'Assgn8.ipynb',\n",
       " 'Assgn9.ipynb',\n",
       " 'Assgn_3.ipynb',\n",
       " 'books.csv',\n",
       " 'books.db',\n",
       " 'programLog.txt',\n",
       " 'test.txt',\n",
       " 'today.txt',\n",
       " 'zoo.py',\n",
       " '__pycache__']"
      ]
     },
     "execution_count": 21,
     "metadata": {},
     "output_type": "execute_result"
    }
   ],
   "source": [
    "os.listdir()"
   ]
  },
  {
   "cell_type": "code",
   "execution_count": null,
   "id": "296d6066",
   "metadata": {},
   "outputs": [],
   "source": [
    "6. Use multiprocessing to create three separate processes. Make each one wait a random number of seconds between one and \n",
    "five, print the current time, and then exit."
   ]
  },
  {
   "cell_type": "code",
   "execution_count": 24,
   "id": "923edbed",
   "metadata": {},
   "outputs": [
    {
     "name": "stdout",
     "output_type": "stream",
     "text": [
      "None\n"
     ]
    }
   ],
   "source": [
    "import multiprocessing\n",
    "import time \n",
    "import random\n",
    "import datetime\n",
    "\n",
    "def procOne():\n",
    "    print(f'Proc_one_Starttime -> {datetime.datetime.now()}')\n",
    "    time.sleep(random.randint(1,5))\n",
    "    print(f'Proc_one_Endtime -> {datetime.datetime.now()}')\n",
    "    \n",
    "def procTwo():\n",
    "    print(f'Proc_two_Starttime -> {datetime.datetime.now()}')\n",
    "    time.sleep(random.randint(1,5))\n",
    "    print(f'Proc_two_Endtime -> {datetime.datetime.now()}')\n",
    "def procThree():\n",
    "    print(f'Proc_two_Starttime -> {datetime.datetime.now()}')\n",
    "    time.sleep(random.randint(1,5))\n",
    "    print(f'Proc_two_Endtime -> {datetime.datetime.now()}')\n",
    "    \n",
    "if __name__ == \"__main__\":    \n",
    "    p1 = multiprocessing.Process(target=procOne)\n",
    "    p2 = multiprocessing.Process(target=procTwo)\n",
    "    p3 = multiprocessing.Process(target=procThree)\n",
    "\n",
    "    p1.start()\n",
    "    p2.start()\n",
    "    p3.start()\n",
    "\n",
    "    p1.join()\n",
    "    p2.join()\n",
    "    p3.join()"
   ]
  },
  {
   "cell_type": "code",
   "execution_count": null,
   "id": "81558fc9",
   "metadata": {},
   "outputs": [],
   "source": [
    "7. Create a date object of your day of birth.\n"
   ]
  },
  {
   "cell_type": "code",
   "execution_count": 26,
   "id": "1dc39082",
   "metadata": {},
   "outputs": [
    {
     "name": "stdout",
     "output_type": "stream",
     "text": [
      "1999-08-31 00:00:00 <class 'datetime.datetime'>\n"
     ]
    }
   ],
   "source": [
    "from datetime import datetime\n",
    "my_dob = datetime.strptime('31/08/1999','%d/%m/%Y')\n",
    "print(my_dob, type(my_dob))"
   ]
  },
  {
   "cell_type": "code",
   "execution_count": null,
   "id": "fada5b3b",
   "metadata": {},
   "outputs": [],
   "source": [
    "8. What day of the week was your day of birth?\n"
   ]
  },
  {
   "cell_type": "code",
   "execution_count": 29,
   "id": "cf3c51f6",
   "metadata": {},
   "outputs": [
    {
     "data": {
      "text/plain": [
       "'Tuesday'"
      ]
     },
     "execution_count": 29,
     "metadata": {},
     "output_type": "execute_result"
    }
   ],
   "source": [
    "from datetime import datetime\n",
    "my_dob = datetime(1999,8,31)\n",
    "my_dob.strftime(\"%A\")"
   ]
  },
  {
   "cell_type": "code",
   "execution_count": null,
   "id": "0ddafa83",
   "metadata": {},
   "outputs": [],
   "source": [
    "9. When will you be (or when were you) 10,000 days old?"
   ]
  },
  {
   "cell_type": "code",
   "execution_count": 30,
   "id": "a3065718",
   "metadata": {},
   "outputs": [
    {
     "data": {
      "text/plain": [
       "datetime.datetime(1972, 4, 14, 0, 0)"
      ]
     },
     "execution_count": 30,
     "metadata": {},
     "output_type": "execute_result"
    }
   ],
   "source": [
    "from datetime import datetime, timedelta\n",
    "my_dob = datetime.strptime(\"31/08/1999\",'%d/%m/%Y')\n",
    "future_date = my_dob-timedelta(10000)\n",
    "future_date"
   ]
  },
  {
   "cell_type": "code",
   "execution_count": null,
   "id": "2d016014",
   "metadata": {},
   "outputs": [],
   "source": []
  },
  {
   "cell_type": "code",
   "execution_count": null,
   "id": "822fae03",
   "metadata": {},
   "outputs": [],
   "source": []
  }
 ],
 "metadata": {
  "kernelspec": {
   "display_name": "Python 3",
   "language": "python",
   "name": "python3"
  },
  "language_info": {
   "codemirror_mode": {
    "name": "ipython",
    "version": 3
   },
   "file_extension": ".py",
   "mimetype": "text/x-python",
   "name": "python",
   "nbconvert_exporter": "python",
   "pygments_lexer": "ipython3",
   "version": "3.9.0"
  }
 },
 "nbformat": 4,
 "nbformat_minor": 5
}
