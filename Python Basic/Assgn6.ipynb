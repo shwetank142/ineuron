{
 "cells": [
  {
   "cell_type": "code",
   "execution_count": null,
   "id": "41db6f86",
   "metadata": {},
   "outputs": [],
   "source": [
    "1.What are Escape characters ? and how do you use them ?\n",
    "\n",
    "Ans: Escape characters represent characters in string values that would otherwise be difficult or\n",
    "    impossible to type into code. we can use the backslash character to escape a single character \n",
    "    or symbol example: \\t, \\n"
   ]
  },
  {
   "cell_type": "code",
   "execution_count": 1,
   "id": "892bc010",
   "metadata": {},
   "outputs": [
    {
     "data": {
      "text/plain": [
       "'We are the so-called \"Engineers\" from India.'"
      ]
     },
     "execution_count": 1,
     "metadata": {},
     "output_type": "execute_result"
    }
   ],
   "source": [
    "txt = \"We are the so-called \\\"Engineers\\\" from India.\"\n",
    "txt"
   ]
  },
  {
   "cell_type": "code",
   "execution_count": null,
   "id": "6364d0a7",
   "metadata": {},
   "outputs": [],
   "source": [
    "2.What do the escape characters n and t stand for ?\n",
    "\n",
    "Ans: \\n is a newline, \\t is a tab"
   ]
  },
  {
   "cell_type": "code",
   "execution_count": 3,
   "id": "7c412878",
   "metadata": {},
   "outputs": [
    {
     "name": "stdout",
     "output_type": "stream",
     "text": [
      "Hello\n",
      "World!\n",
      "Hello\tWorld!\n"
     ]
    }
   ],
   "source": [
    "txt = \"Hello\\nWorld!\"\n",
    "print(txt) \n",
    "\n",
    "txt1 = \"Hello\\tWorld!\"\n",
    "print(txt1)"
   ]
  },
  {
   "cell_type": "code",
   "execution_count": null,
   "id": "bfa1566a",
   "metadata": {},
   "outputs": [],
   "source": [
    "3.What is the way to include backslash character in a string?\n",
    "\n",
    "Ans: The \\\\ escape character will represent the backslash character in a string."
   ]
  },
  {
   "cell_type": "code",
   "execution_count": null,
   "id": "9ca71c98",
   "metadata": {},
   "outputs": [],
   "source": [
    "4.The string \"Howl's Moving Castle\" is a correct value. Why isn't the single quote character in \n",
    "  the word Howl's not escaped a problem ?\n",
    "\n",
    "Ans:The string \"Howl's Moving Castle\" escaped the problem because it is wrapped inside double \n",
    "    quotes. if its wrapped inside single quotes then we have to use escape character \\' to show \n",
    "    single quote in the final output 'Howl\\'s Moving Castle' -> 'Howl's Moving Castle'"
   ]
  },
  {
   "cell_type": "code",
   "execution_count": null,
   "id": "5aacd4cb",
   "metadata": {},
   "outputs": [],
   "source": [
    "5.How do you write a string of newlines if you don't want to use the n character?\n",
    "\n",
    "Ans: Multiline string allow you to use newlines in string without the \\n escape character"
   ]
  },
  {
   "cell_type": "code",
   "execution_count": 4,
   "id": "daa108fc",
   "metadata": {},
   "outputs": [
    {
     "name": "stdout",
     "output_type": "stream",
     "text": [
      "iNeuron full stack\n",
      "Awesome Data Science Course\n"
     ]
    }
   ],
   "source": [
    "# Example:\n",
    "a = '''iNeuron full stack\n",
    "Awesome Data Science Course'''\n",
    "print(a)"
   ]
  },
  {
   "cell_type": "code",
   "execution_count": null,
   "id": "4313660b",
   "metadata": {},
   "outputs": [],
   "source": [
    "6.What are the values of the given expressions ?\n",
    "'Hello, world!'[1]\n",
    "'Hello, world!'[0:5]\n",
    "'Hello, world!'[:5]\n",
    "'Hello, world!'[3:]\n",
    "\n",
    "Ans: The values for the given expressions are:\n",
    "'Hello, world!'[1] -> 'e'\n",
    "'Hello, world!'[0:5] -> 'Hello'\n",
    "'Hello, world!'[:5] -> 'Hello'\n",
    "'Hello, world!'[3:] -> 'lo, world!'"
   ]
  },
  {
   "cell_type": "code",
   "execution_count": null,
   "id": "52f04b7d",
   "metadata": {},
   "outputs": [],
   "source": [
    "7.What are the values of the following expressions ?\n",
    "'Hello'.upper()\n",
    "'Hello'.upper().isupper()\n",
    "'Hello'.upper().lower()\n",
    "\n",
    "Ans: The values for the given expressions are:\n",
    "'Hello'.upper() -> 'HELLO'\n",
    "'Hello'.upper().isupper() -> True\n",
    "'Hello'.upper().lower() -> 'hello'"
   ]
  },
  {
   "cell_type": "code",
   "execution_count": null,
   "id": "028e600d",
   "metadata": {},
   "outputs": [],
   "source": [
    "8.What are the values of the following expressions ?\n",
    "'Remember, remember, the fifith of July.'.split()\n",
    "'-'.join('There can only one'.split())\n",
    "\n",
    "Ans: The values for the given expressions are:\n",
    "    'Remember, remember, the fifith of July.'.split() -> \n",
    "    ['Remember,', 'remember,', 'the', 'fifith', 'of', 'July.']\n",
    "     '-'.join('There can only one'.split()) -> 'There-can-only-one'"
   ]
  },
  {
   "cell_type": "code",
   "execution_count": null,
   "id": "0b7464ac",
   "metadata": {},
   "outputs": [],
   "source": [
    "9.What are the methods for right-justifying, left-justifying and centering a string ? \n",
    "\n",
    "Ans: The rjust(),ljust(),center() string methods, respectively\n",
    "\n",
    "str.ljust(s, width[, fillchar])\n",
    "\n",
    "str.rjust(s, width[, fillchar])\n",
    "\n",
    "str.center(s, width[, fillchar])"
   ]
  },
  {
   "cell_type": "code",
   "execution_count": null,
   "id": "da0a0542",
   "metadata": {},
   "outputs": [],
   "source": [
    "10.What is the best way to remove whitespace characters from the start or end ?\n",
    "Ans: The lstrip() and rstrip() methods remove whitesapce characters from the left and right ends \n",
    "     of a string respectively"
   ]
  },
  {
   "cell_type": "code",
   "execution_count": 5,
   "id": "99bf950f",
   "metadata": {},
   "outputs": [
    {
     "name": "stdout",
     "output_type": "stream",
     "text": [
      " String after stripping all '-' is : iNeuron\n",
      " String after stripping all leading '-' is : iNeuron---\n",
      " String after stripping all trailing '-' is : ---iNeuron\n"
     ]
    }
   ],
   "source": [
    "str = \"---iNeuron---\"\n",
    " \n",
    "# using strip() to delete all '-'\n",
    "print ( \" String after stripping all '-' is : \", end=\"\")\n",
    "print ( str.strip('-') )\n",
    " \n",
    "# using lstrip() to delete all trailing '-'\n",
    "print ( \" String after stripping all leading '-' is : \", end=\"\")\n",
    "print ( str.lstrip('-') )\n",
    " \n",
    "# using rstrip() to delete all leading '-'\n",
    "print ( \" String after stripping all trailing '-' is : \", end=\"\")\n",
    "print ( str.rstrip('-') )"
   ]
  }
 ],
 "metadata": {
  "kernelspec": {
   "display_name": "Python 3",
   "language": "python",
   "name": "python3"
  },
  "language_info": {
   "codemirror_mode": {
    "name": "ipython",
    "version": 3
   },
   "file_extension": ".py",
   "mimetype": "text/x-python",
   "name": "python",
   "nbconvert_exporter": "python",
   "pygments_lexer": "ipython3",
   "version": "3.9.0"
  }
 },
 "nbformat": 4,
 "nbformat_minor": 5
}
