{
 "cells": [
  {
   "cell_type": "code",
   "execution_count": null,
   "id": "91d8695c",
   "metadata": {},
   "outputs": [],
   "source": [
    "1.What does an empty dictionary's code look like?\n",
    "\n",
    "Ans: An empty dictionary is often represented by two empty curly brackets\n",
    "d = {} or d = dict()"
   ]
  },
  {
   "cell_type": "code",
   "execution_count": 1,
   "id": "6a682317",
   "metadata": {},
   "outputs": [
    {
     "name": "stdout",
     "output_type": "stream",
     "text": [
      "{}\n",
      "Length: 0\n",
      "<class 'dict'>\n"
     ]
    }
   ],
   "source": [
    "# Python3 code to demonstrate use of\n",
    "# {} symbol to initialize dictionary\n",
    "emptyDict = {}\n",
    " \n",
    "# print dictionary\n",
    "print(emptyDict)\n",
    " \n",
    "# print length of dictionary\n",
    "print(\"Length:\", len(emptyDict))\n",
    " \n",
    "# print type\n",
    "print(type(emptyDict))"
   ]
  },
  {
   "cell_type": "code",
   "execution_count": null,
   "id": "36556f10",
   "metadata": {},
   "outputs": [],
   "source": [
    "2.what is the value of dictionary value with key 'foo' and the value 42 ?\n",
    "\n",
    "Ans: {'foo':42}"
   ]
  },
  {
   "cell_type": "code",
   "execution_count": null,
   "id": "a79937ce",
   "metadata": {},
   "outputs": [],
   "source": [
    "3.What is the most significant distinction between a dictionary and a list?\n",
    "\n",
    "Ans: Dictionaries are represented by {} where as listed are represented by []. The Items stored \n",
    "    in a dictionary are Unordered , while the items in a list are ordered.\n",
    "\n",
    "    Lists are just like the arrays, declared in other languages. Lists need not be homogeneous \n",
    "    always which makes it a most powerful tool in Python. A single list may contain DataTypes \n",
    "    like Integers, Strings, as well as Objects. Lists are mutable, and hence, they can be altered\n",
    "    even after their creation.\n",
    "    \n",
    "    Dictionary in Python on the other hand is an unordered collection of data values, used to \n",
    "    store data values like a map, which unlike other Data Types that hold only single value as an\n",
    "    element, Dictionary holds key:value pair. Key-value is provided in the dictionary to make it \n",
    "    more optimized. Each key-value pair in a Dictionary is separated by a colon :, whereas \n",
    "    each key is separated by a ‘comma’."
   ]
  },
  {
   "cell_type": "code",
   "execution_count": null,
   "id": "8fc78de4",
   "metadata": {},
   "outputs": [],
   "source": [
    "4.What happens if you try to access spam ['foo'] if spam is {'bar':100} ?\n",
    "\n",
    "Ans: we will get a keyError KeyError: 'foo'"
   ]
  },
  {
   "cell_type": "code",
   "execution_count": 2,
   "id": "4612f82e",
   "metadata": {},
   "outputs": [
    {
     "ename": "KeyError",
     "evalue": "'foo'",
     "output_type": "error",
     "traceback": [
      "\u001b[1;31m---------------------------------------------------------------------------\u001b[0m",
      "\u001b[1;31mKeyError\u001b[0m                                  Traceback (most recent call last)",
      "\u001b[1;32m<ipython-input-2-642d3309ed9c>\u001b[0m in \u001b[0;36m<module>\u001b[1;34m\u001b[0m\n\u001b[0;32m      1\u001b[0m \u001b[0mspam\u001b[0m \u001b[1;33m=\u001b[0m \u001b[1;33m{\u001b[0m\u001b[1;34m'bar'\u001b[0m\u001b[1;33m:\u001b[0m \u001b[1;36m100\u001b[0m\u001b[1;33m}\u001b[0m\u001b[1;33m\u001b[0m\u001b[1;33m\u001b[0m\u001b[0m\n\u001b[1;32m----> 2\u001b[1;33m \u001b[0mspam\u001b[0m \u001b[1;33m[\u001b[0m\u001b[1;34m'foo'\u001b[0m\u001b[1;33m]\u001b[0m\u001b[1;33m\u001b[0m\u001b[1;33m\u001b[0m\u001b[0m\n\u001b[0m",
      "\u001b[1;31mKeyError\u001b[0m: 'foo'"
     ]
    }
   ],
   "source": [
    "spam = {'bar': 100}\n",
    "spam ['foo']"
   ]
  },
  {
   "cell_type": "code",
   "execution_count": null,
   "id": "14efea8a",
   "metadata": {},
   "outputs": [],
   "source": [
    "5.if a dictionary is stored in spam,what is the difference between the expressions 'cat' in \n",
    "  spam and 'cat' in spam.keys() ?\n",
    "    \n",
    "Ans: There is no difference . The operator checks whether a value exists as a key in the \n",
    "    dictionary or not."
   ]
  },
  {
   "cell_type": "code",
   "execution_count": 8,
   "id": "bb6f0795",
   "metadata": {},
   "outputs": [
    {
     "name": "stdout",
     "output_type": "stream",
     "text": [
      "True\n"
     ]
    }
   ],
   "source": [
    "d={'cat':1}\n",
    "print('cat' in d)"
   ]
  },
  {
   "cell_type": "code",
   "execution_count": 9,
   "id": "40ddd73c",
   "metadata": {},
   "outputs": [
    {
     "name": "stdout",
     "output_type": "stream",
     "text": [
      "True\n"
     ]
    }
   ],
   "source": [
    "d={'cat':1}\n",
    "print('cat' in d.keys())"
   ]
  },
  {
   "cell_type": "code",
   "execution_count": null,
   "id": "214655c5",
   "metadata": {},
   "outputs": [],
   "source": [
    "6.if a dictionary is stored in spam,what is the difference between the expressions 'cat' in spam\n",
    "  and 'cat' in spam.values() ?\n",
    "    \n",
    "Ans:'cat' in spam checks whether there is a 'cat' key in the dictionary, while 'cat' in \n",
    "    spam.values() checks whether there is a value 'cat' for one of the keys in spam."
   ]
  },
  {
   "cell_type": "code",
   "execution_count": null,
   "id": "7eeb671f",
   "metadata": {},
   "outputs": [],
   "source": [
    "7.what is a shortcut for the following code ?\n",
    "if 'color' not in spam:\n",
    "    spam['color'] ='black'\n",
    "\n",
    "Ans: spam.setdefault('color','black')"
   ]
  },
  {
   "cell_type": "code",
   "execution_count": null,
   "id": "e67ab202",
   "metadata": {},
   "outputs": [],
   "source": [
    "8.How do you 'pretty print' dictionary values using which modules and function ?\n",
    "\n",
    "Ans: we can pretty print a dictionary using three functions\n",
    "\n",
    "by using pprint() function of pprint module\n",
    "Note: pprint() function doesnot prettify nested dictionaries\n",
    "by using dumps() method of json module\n",
    "by using dumps() method of yaml module"
   ]
  },
  {
   "cell_type": "code",
   "execution_count": 11,
   "id": "e6be6016",
   "metadata": {},
   "outputs": [
    {
     "name": "stdout",
     "output_type": "stream",
     "text": [
      "Printing using print() function\n",
      " [{'Name': 'Sam', 'Age': '54', 'food': {'Chinese': 'Momo', 'Indian': 'Dhokla'}}, {'Name': 'Krish', 'Age': '23', 'food': {'Italian': 'Pizza', 'Mexican': 'Chilaquiles'}}, {'Name': 'Esha', 'Age': '26', 'food': {'Indian': 'Litti-Chokha', 'American': 'Burger'}}, {'Name': 'Papa', 'Age': '64', 'food': {'Italian': 'Pasta', 'Chinese': 'Noodles'}}]\n",
      "----------------------------------------------------------------------\n",
      "Printing using pprint() funciton\n",
      "[{'Age': '54', 'Name': 'Sam', 'food': {'Chinese': 'Momo', 'Indian': 'Dhokla'}},\n",
      " {'Age': '23',\n",
      "  'Name': 'Krish',\n",
      "  'food': {'Italian': 'Pizza', 'Mexican': 'Chilaquiles'}},\n",
      " {'Age': '26',\n",
      "  'Name': 'Esha',\n",
      "  'food': {'American': 'Burger', 'Indian': 'Litti-Chokha'}},\n",
      " {'Age': '64',\n",
      "  'Name': 'Papa',\n",
      "  'food': {'Chinese': 'Noodles', 'Italian': 'Pasta'}}]\n",
      "----------------------------------------------------------------------\n",
      "Printing using dumps() method\n",
      " [\n",
      "    {\n",
      "        \"Name\": \"Sam\",\n",
      "        \"Age\": \"54\",\n",
      "        \"food\": {\n",
      "            \"Chinese\": \"Momo\",\n",
      "            \"Indian\": \"Dhokla\"\n",
      "        }\n",
      "    },\n",
      "    {\n",
      "        \"Name\": \"Krish\",\n",
      "        \"Age\": \"23\",\n",
      "        \"food\": {\n",
      "            \"Italian\": \"Pizza\",\n",
      "            \"Mexican\": \"Chilaquiles\"\n",
      "        }\n",
      "    },\n",
      "    {\n",
      "        \"Name\": \"Esha\",\n",
      "        \"Age\": \"26\",\n",
      "        \"food\": {\n",
      "            \"Indian\": \"Litti-Chokha\",\n",
      "            \"American\": \"Burger\"\n",
      "        }\n",
      "    },\n",
      "    {\n",
      "        \"Name\": \"Papa\",\n",
      "        \"Age\": \"64\",\n",
      "        \"food\": {\n",
      "            \"Italian\": \"Pasta\",\n",
      "            \"Chinese\": \"Noodles\"\n",
      "        }\n",
      "    }\n",
      "]\n",
      "----------------------------------------------------------------------\n",
      "Printing using dump() method\n",
      " - Age: '54'\n",
      "  Name: Sam\n",
      "  food:\n",
      "    Chinese: Momo\n",
      "    Indian: Dhokla\n",
      "- Age: '23'\n",
      "  Name: Krish\n",
      "  food:\n",
      "    Italian: Pizza\n",
      "    Mexican: Chilaquiles\n",
      "- Age: '26'\n",
      "  Name: Esha\n",
      "  food:\n",
      "    American: Burger\n",
      "    Indian: Litti-Chokha\n",
      "- Age: '64'\n",
      "  Name: Papa\n",
      "  food:\n",
      "    Chinese: Noodles\n",
      "    Italian: Pasta\n",
      "\n"
     ]
    }
   ],
   "source": [
    "ndict = [\n",
    "  {'Name': 'Sam', 'Age': '54', 'food': {'Chinese':'Momo', 'Indian': 'Dhokla'}},\n",
    "  {'Name': 'Krish', 'Age': '23', 'food': {'Italian':'Pizza', 'Mexican': 'Chilaquiles'}},\n",
    "  {'Name': 'Esha', 'Age': '26', 'food': {'Indian':'Litti-Chokha', 'American': 'Burger'}},\n",
    "  {'Name': 'Papa', 'Age': '64', 'food': {'Italian':'Pasta', 'Chinese': 'Noodles'}}\n",
    "]\n",
    "\n",
    "print('Printing using print() function\\n',ndict)\n",
    "print('-'*70)\n",
    "import pprint\n",
    "print('Printing using pprint() funciton')\n",
    "pprint.pprint(ndict)\n",
    "print('-'*70)\n",
    "import json\n",
    "dump = json.dumps(ndict, indent=4)\n",
    "print('Printing using dumps() method\\n', dump)\n",
    "print('-'*70)\n",
    "import yaml\n",
    "dump = yaml.dump(ndict)\n",
    "print('Printing using dump() method\\n', dump)"
   ]
  }
 ],
 "metadata": {
  "kernelspec": {
   "display_name": "Python 3",
   "language": "python",
   "name": "python3"
  },
  "language_info": {
   "codemirror_mode": {
    "name": "ipython",
    "version": 3
   },
   "file_extension": ".py",
   "mimetype": "text/x-python",
   "name": "python",
   "nbconvert_exporter": "python",
   "pygments_lexer": "ipython3",
   "version": "3.9.0"
  }
 },
 "nbformat": 4,
 "nbformat_minor": 5
}
